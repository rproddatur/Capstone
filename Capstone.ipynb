{
 "cells": [
  {
   "cell_type": "code",
   "execution_count": null,
   "id": "118623e7",
   "metadata": {},
   "outputs": [],
   "source": []
  },
  {
   "cell_type": "code",
   "execution_count": 1,
   "id": "4a0b4009",
   "metadata": {},
   "outputs": [],
   "source": [
    "import pandas as pd\n",
    "import numpy as np\n",
    "import seaborn as sns\n",
    "import matplotlib.pyplot as plt\n",
    "import scipy.stats as st"
   ]
  },
  {
   "cell_type": "code",
   "execution_count": 2,
   "id": "8943b12e",
   "metadata": {},
   "outputs": [],
   "source": [
    "df = pd.DataFrame(pd.read_csv('hr_Hiring_details_with_joining_status_LOB.csv',index_col = 0))"
   ]
  },
  {
   "cell_type": "code",
   "execution_count": 22,
   "id": "4ff2d1dd",
   "metadata": {},
   "outputs": [
    {
     "data": {
      "text/html": [
       "<div>\n",
       "<style scoped>\n",
       "    .dataframe tbody tr th:only-of-type {\n",
       "        vertical-align: middle;\n",
       "    }\n",
       "\n",
       "    .dataframe tbody tr th {\n",
       "        vertical-align: top;\n",
       "    }\n",
       "\n",
       "    .dataframe thead th {\n",
       "        text-align: right;\n",
       "    }\n",
       "</style>\n",
       "<table border=\"1\" class=\"dataframe\">\n",
       "  <thead>\n",
       "    <tr style=\"text-align: right;\">\n",
       "      <th></th>\n",
       "      <th>Sno</th>\n",
       "      <th>Candidate Ref</th>\n",
       "      <th>DOJ Extended</th>\n",
       "      <th>Duration to accept offer</th>\n",
       "      <th>Notice period</th>\n",
       "      <th>Offered band</th>\n",
       "      <th>Pecent hike expected in CTC</th>\n",
       "      <th>Percent hike offered in CTC</th>\n",
       "      <th>Percent difference CTC</th>\n",
       "      <th>Joining Bonus</th>\n",
       "      <th>Candidate relocate actual</th>\n",
       "      <th>Gender</th>\n",
       "      <th>Candidate Source</th>\n",
       "      <th>Rex in Yrs</th>\n",
       "      <th>Location</th>\n",
       "      <th>Age</th>\n",
       "      <th>LOB_id</th>\n",
       "      <th>Status</th>\n",
       "      <th>LOB</th>\n",
       "    </tr>\n",
       "  </thead>\n",
       "  <tbody>\n",
       "    <tr>\n",
       "      <th>0</th>\n",
       "      <td>1</td>\n",
       "      <td>2110407</td>\n",
       "      <td>Yes</td>\n",
       "      <td>14</td>\n",
       "      <td>30</td>\n",
       "      <td>E2</td>\n",
       "      <td>-20.79</td>\n",
       "      <td>13.16</td>\n",
       "      <td>42.86</td>\n",
       "      <td>No</td>\n",
       "      <td>No</td>\n",
       "      <td>Female</td>\n",
       "      <td>Agency</td>\n",
       "      <td>7</td>\n",
       "      <td>Noida</td>\n",
       "      <td>34.0</td>\n",
       "      <td>1</td>\n",
       "      <td>Joined</td>\n",
       "      <td>ERS</td>\n",
       "    </tr>\n",
       "    <tr>\n",
       "      <th>1</th>\n",
       "      <td>2</td>\n",
       "      <td>2112635</td>\n",
       "      <td>No</td>\n",
       "      <td>18</td>\n",
       "      <td>30</td>\n",
       "      <td>E2</td>\n",
       "      <td>50.00</td>\n",
       "      <td>320.00</td>\n",
       "      <td>180.00</td>\n",
       "      <td>No</td>\n",
       "      <td>No</td>\n",
       "      <td>Male</td>\n",
       "      <td>Employee Referral</td>\n",
       "      <td>8</td>\n",
       "      <td>Chennai</td>\n",
       "      <td>34.0</td>\n",
       "      <td>2</td>\n",
       "      <td>Joined</td>\n",
       "      <td>INFRA</td>\n",
       "    </tr>\n",
       "    <tr>\n",
       "      <th>2</th>\n",
       "      <td>3</td>\n",
       "      <td>2112838</td>\n",
       "      <td>No</td>\n",
       "      <td>3</td>\n",
       "      <td>45</td>\n",
       "      <td>E2</td>\n",
       "      <td>42.84</td>\n",
       "      <td>42.84</td>\n",
       "      <td>0.00</td>\n",
       "      <td>No</td>\n",
       "      <td>No</td>\n",
       "      <td>Male</td>\n",
       "      <td>Agency</td>\n",
       "      <td>4</td>\n",
       "      <td>Noida</td>\n",
       "      <td>27.0</td>\n",
       "      <td>2</td>\n",
       "      <td>Joined</td>\n",
       "      <td>INFRA</td>\n",
       "    </tr>\n",
       "    <tr>\n",
       "      <th>3</th>\n",
       "      <td>4</td>\n",
       "      <td>2115021</td>\n",
       "      <td>No</td>\n",
       "      <td>26</td>\n",
       "      <td>30</td>\n",
       "      <td>E2</td>\n",
       "      <td>42.84</td>\n",
       "      <td>42.84</td>\n",
       "      <td>0.00</td>\n",
       "      <td>No</td>\n",
       "      <td>No</td>\n",
       "      <td>Male</td>\n",
       "      <td>Employee Referral</td>\n",
       "      <td>4</td>\n",
       "      <td>Noida</td>\n",
       "      <td>34.0</td>\n",
       "      <td>2</td>\n",
       "      <td>Joined</td>\n",
       "      <td>INFRA</td>\n",
       "    </tr>\n",
       "    <tr>\n",
       "      <th>4</th>\n",
       "      <td>5</td>\n",
       "      <td>2115125</td>\n",
       "      <td>Yes</td>\n",
       "      <td>1</td>\n",
       "      <td>120</td>\n",
       "      <td>E2</td>\n",
       "      <td>42.59</td>\n",
       "      <td>42.59</td>\n",
       "      <td>0.00</td>\n",
       "      <td>No</td>\n",
       "      <td>Yes</td>\n",
       "      <td>Male</td>\n",
       "      <td>Employee Referral</td>\n",
       "      <td>6</td>\n",
       "      <td>Noida</td>\n",
       "      <td>34.0</td>\n",
       "      <td>2</td>\n",
       "      <td>Joined</td>\n",
       "      <td>INFRA</td>\n",
       "    </tr>\n",
       "  </tbody>\n",
       "</table>\n",
       "</div>"
      ],
      "text/plain": [
       "   Sno  Candidate Ref DOJ Extended  Duration to accept offer  Notice period  \\\n",
       "0    1        2110407          Yes                        14             30   \n",
       "1    2        2112635           No                        18             30   \n",
       "2    3        2112838           No                         3             45   \n",
       "3    4        2115021           No                        26             30   \n",
       "4    5        2115125          Yes                         1            120   \n",
       "\n",
       "  Offered band  Pecent hike expected in CTC  Percent hike offered in CTC  \\\n",
       "0           E2                       -20.79                        13.16   \n",
       "1           E2                        50.00                       320.00   \n",
       "2           E2                        42.84                        42.84   \n",
       "3           E2                        42.84                        42.84   \n",
       "4           E2                        42.59                        42.59   \n",
       "\n",
       "   Percent difference CTC Joining Bonus Candidate relocate actual  Gender  \\\n",
       "0                   42.86            No                        No  Female   \n",
       "1                  180.00            No                        No    Male   \n",
       "2                    0.00            No                        No    Male   \n",
       "3                    0.00            No                        No    Male   \n",
       "4                    0.00            No                       Yes    Male   \n",
       "\n",
       "    Candidate Source  Rex in Yrs Location   Age  LOB_id  Status    LOB  \n",
       "0             Agency           7    Noida  34.0       1  Joined    ERS  \n",
       "1  Employee Referral           8  Chennai  34.0       2  Joined  INFRA  \n",
       "2             Agency           4    Noida  27.0       2  Joined  INFRA  \n",
       "3  Employee Referral           4    Noida  34.0       2  Joined  INFRA  \n",
       "4  Employee Referral           6    Noida  34.0       2  Joined  INFRA  "
      ]
     },
     "execution_count": 22,
     "metadata": {},
     "output_type": "execute_result"
    }
   ],
   "source": [
    "df.head()"
   ]
  },
  {
   "cell_type": "code",
   "execution_count": 4,
   "id": "1de399e2",
   "metadata": {},
   "outputs": [
    {
     "name": "stdout",
     "output_type": "stream",
     "text": [
      "<class 'pandas.core.frame.DataFrame'>\n",
      "Int64Index: 8995 entries, 0 to 8994\n",
      "Data columns (total 19 columns):\n",
      " #   Column                       Non-Null Count  Dtype  \n",
      "---  ------                       --------------  -----  \n",
      " 0   Sno                          8995 non-null   int64  \n",
      " 1   Candidate Ref                8995 non-null   int64  \n",
      " 2   DOJ Extended                 8995 non-null   object \n",
      " 3   Duration to accept offer     8995 non-null   int64  \n",
      " 4   Notice period                8995 non-null   int64  \n",
      " 5   Offered band                 8982 non-null   object \n",
      " 6   Pecent hike expected in CTC  8995 non-null   float64\n",
      " 7   Percent hike offered in CTC  8995 non-null   float64\n",
      " 8   Percent difference CTC       8995 non-null   float64\n",
      " 9   Joining Bonus                8995 non-null   object \n",
      " 10  Candidate relocate actual    8995 non-null   object \n",
      " 11  Gender                       8995 non-null   object \n",
      " 12  Candidate Source             8995 non-null   object \n",
      " 13  Rex in Yrs                   8995 non-null   int64  \n",
      " 14  Location                     8995 non-null   object \n",
      " 15  Age                          8980 non-null   float64\n",
      " 16  LOB_id                       8995 non-null   int64  \n",
      " 17  Status                       8995 non-null   object \n",
      " 18  LOB                          8995 non-null   object \n",
      "dtypes: float64(4), int64(6), object(9)\n",
      "memory usage: 1.4+ MB\n"
     ]
    }
   ],
   "source": [
    "df.info()"
   ]
  },
  {
   "cell_type": "markdown",
   "id": "1cc174de",
   "metadata": {},
   "source": [
    "As we can see in the above output it is shown that there is null values in the age and offered band column."
   ]
  },
  {
   "cell_type": "code",
   "execution_count": 14,
   "id": "c3009bc7",
   "metadata": {},
   "outputs": [
    {
     "data": {
      "text/html": [
       "<div>\n",
       "<style scoped>\n",
       "    .dataframe tbody tr th:only-of-type {\n",
       "        vertical-align: middle;\n",
       "    }\n",
       "\n",
       "    .dataframe tbody tr th {\n",
       "        vertical-align: top;\n",
       "    }\n",
       "\n",
       "    .dataframe thead th {\n",
       "        text-align: right;\n",
       "    }\n",
       "</style>\n",
       "<table border=\"1\" class=\"dataframe\">\n",
       "  <thead>\n",
       "    <tr style=\"text-align: right;\">\n",
       "      <th></th>\n",
       "      <th>Sno</th>\n",
       "      <th>Candidate Ref</th>\n",
       "      <th>DOJ Extended</th>\n",
       "      <th>Duration to accept offer</th>\n",
       "      <th>Notice period</th>\n",
       "      <th>Offered band</th>\n",
       "      <th>Pecent hike expected in CTC</th>\n",
       "      <th>Percent hike offered in CTC</th>\n",
       "      <th>Percent difference CTC</th>\n",
       "      <th>Joining Bonus</th>\n",
       "      <th>Candidate relocate actual</th>\n",
       "      <th>Gender</th>\n",
       "      <th>Candidate Source</th>\n",
       "      <th>Rex in Yrs</th>\n",
       "      <th>Location</th>\n",
       "      <th>Age</th>\n",
       "      <th>LOB_id</th>\n",
       "      <th>Status</th>\n",
       "      <th>LOB</th>\n",
       "    </tr>\n",
       "  </thead>\n",
       "  <tbody>\n",
       "    <tr>\n",
       "      <th>397</th>\n",
       "      <td>524</td>\n",
       "      <td>2117861</td>\n",
       "      <td>Yes</td>\n",
       "      <td>62</td>\n",
       "      <td>60</td>\n",
       "      <td>E2</td>\n",
       "      <td>40.85</td>\n",
       "      <td>40.85</td>\n",
       "      <td>0.00</td>\n",
       "      <td>No</td>\n",
       "      <td>No</td>\n",
       "      <td>Male</td>\n",
       "      <td>Employee Referral</td>\n",
       "      <td>2</td>\n",
       "      <td>Noida</td>\n",
       "      <td>NaN</td>\n",
       "      <td>2</td>\n",
       "      <td>Joined</td>\n",
       "      <td>INFRA</td>\n",
       "    </tr>\n",
       "    <tr>\n",
       "      <th>406</th>\n",
       "      <td>535</td>\n",
       "      <td>2118480</td>\n",
       "      <td>No</td>\n",
       "      <td>4</td>\n",
       "      <td>30</td>\n",
       "      <td>E1</td>\n",
       "      <td>89.66</td>\n",
       "      <td>48.28</td>\n",
       "      <td>-21.82</td>\n",
       "      <td>No</td>\n",
       "      <td>No</td>\n",
       "      <td>Male</td>\n",
       "      <td>Direct</td>\n",
       "      <td>3</td>\n",
       "      <td>Noida</td>\n",
       "      <td>NaN</td>\n",
       "      <td>5</td>\n",
       "      <td>Joined</td>\n",
       "      <td>CSMP</td>\n",
       "    </tr>\n",
       "    <tr>\n",
       "      <th>414</th>\n",
       "      <td>543</td>\n",
       "      <td>2119541</td>\n",
       "      <td>Yes</td>\n",
       "      <td>2</td>\n",
       "      <td>0</td>\n",
       "      <td>E2</td>\n",
       "      <td>56.86</td>\n",
       "      <td>37.25</td>\n",
       "      <td>-12.50</td>\n",
       "      <td>No</td>\n",
       "      <td>No</td>\n",
       "      <td>Female</td>\n",
       "      <td>Employee Referral</td>\n",
       "      <td>3</td>\n",
       "      <td>Noida</td>\n",
       "      <td>NaN</td>\n",
       "      <td>2</td>\n",
       "      <td>Joined</td>\n",
       "      <td>INFRA</td>\n",
       "    </tr>\n",
       "    <tr>\n",
       "      <th>425</th>\n",
       "      <td>560</td>\n",
       "      <td>2121112</td>\n",
       "      <td>No</td>\n",
       "      <td>3</td>\n",
       "      <td>30</td>\n",
       "      <td>NaN</td>\n",
       "      <td>0.00</td>\n",
       "      <td>-6.45</td>\n",
       "      <td>-6.45</td>\n",
       "      <td>No</td>\n",
       "      <td>No</td>\n",
       "      <td>Male</td>\n",
       "      <td>Direct</td>\n",
       "      <td>8</td>\n",
       "      <td>Bangalore</td>\n",
       "      <td>NaN</td>\n",
       "      <td>2</td>\n",
       "      <td>Joined</td>\n",
       "      <td>INFRA</td>\n",
       "    </tr>\n",
       "    <tr>\n",
       "      <th>446</th>\n",
       "      <td>589</td>\n",
       "      <td>2128251</td>\n",
       "      <td>No</td>\n",
       "      <td>58</td>\n",
       "      <td>30</td>\n",
       "      <td>E2</td>\n",
       "      <td>50.33</td>\n",
       "      <td>50.33</td>\n",
       "      <td>0.00</td>\n",
       "      <td>No</td>\n",
       "      <td>No</td>\n",
       "      <td>Male</td>\n",
       "      <td>Direct</td>\n",
       "      <td>7</td>\n",
       "      <td>Chennai</td>\n",
       "      <td>NaN</td>\n",
       "      <td>2</td>\n",
       "      <td>Joined</td>\n",
       "      <td>INFRA</td>\n",
       "    </tr>\n",
       "    <tr>\n",
       "      <th>485</th>\n",
       "      <td>644</td>\n",
       "      <td>2143765</td>\n",
       "      <td>Yes</td>\n",
       "      <td>41</td>\n",
       "      <td>90</td>\n",
       "      <td>E1</td>\n",
       "      <td>10.77</td>\n",
       "      <td>10.77</td>\n",
       "      <td>0.00</td>\n",
       "      <td>No</td>\n",
       "      <td>No</td>\n",
       "      <td>Male</td>\n",
       "      <td>Employee Referral</td>\n",
       "      <td>5</td>\n",
       "      <td>Chennai</td>\n",
       "      <td>NaN</td>\n",
       "      <td>4</td>\n",
       "      <td>Joined</td>\n",
       "      <td>BFSI</td>\n",
       "    </tr>\n",
       "    <tr>\n",
       "      <th>526</th>\n",
       "      <td>691</td>\n",
       "      <td>2151137</td>\n",
       "      <td>No</td>\n",
       "      <td>4</td>\n",
       "      <td>45</td>\n",
       "      <td>E3</td>\n",
       "      <td>20.83</td>\n",
       "      <td>20.83</td>\n",
       "      <td>0.00</td>\n",
       "      <td>No</td>\n",
       "      <td>No</td>\n",
       "      <td>Male</td>\n",
       "      <td>Employee Referral</td>\n",
       "      <td>13</td>\n",
       "      <td>Noida</td>\n",
       "      <td>NaN</td>\n",
       "      <td>2</td>\n",
       "      <td>Joined</td>\n",
       "      <td>INFRA</td>\n",
       "    </tr>\n",
       "    <tr>\n",
       "      <th>573</th>\n",
       "      <td>751</td>\n",
       "      <td>2160044</td>\n",
       "      <td>No</td>\n",
       "      <td>0</td>\n",
       "      <td>0</td>\n",
       "      <td>E2</td>\n",
       "      <td>17.78</td>\n",
       "      <td>14.31</td>\n",
       "      <td>-2.94</td>\n",
       "      <td>Yes</td>\n",
       "      <td>No</td>\n",
       "      <td>Male</td>\n",
       "      <td>Agency</td>\n",
       "      <td>9</td>\n",
       "      <td>Gurgaon</td>\n",
       "      <td>NaN</td>\n",
       "      <td>2</td>\n",
       "      <td>Joined</td>\n",
       "      <td>INFRA</td>\n",
       "    </tr>\n",
       "    <tr>\n",
       "      <th>616</th>\n",
       "      <td>809</td>\n",
       "      <td>2167868</td>\n",
       "      <td>No</td>\n",
       "      <td>5</td>\n",
       "      <td>30</td>\n",
       "      <td>E1</td>\n",
       "      <td>20.00</td>\n",
       "      <td>-4.00</td>\n",
       "      <td>-20.00</td>\n",
       "      <td>No</td>\n",
       "      <td>Yes</td>\n",
       "      <td>Male</td>\n",
       "      <td>Direct</td>\n",
       "      <td>2</td>\n",
       "      <td>Noida</td>\n",
       "      <td>NaN</td>\n",
       "      <td>2</td>\n",
       "      <td>Joined</td>\n",
       "      <td>INFRA</td>\n",
       "    </tr>\n",
       "    <tr>\n",
       "      <th>674</th>\n",
       "      <td>889</td>\n",
       "      <td>2177940</td>\n",
       "      <td>No</td>\n",
       "      <td>0</td>\n",
       "      <td>30</td>\n",
       "      <td>E1</td>\n",
       "      <td>13.46</td>\n",
       "      <td>34.56</td>\n",
       "      <td>18.60</td>\n",
       "      <td>No</td>\n",
       "      <td>No</td>\n",
       "      <td>Male</td>\n",
       "      <td>Employee Referral</td>\n",
       "      <td>3</td>\n",
       "      <td>Gurgaon</td>\n",
       "      <td>NaN</td>\n",
       "      <td>5</td>\n",
       "      <td>Joined</td>\n",
       "      <td>CSMP</td>\n",
       "    </tr>\n",
       "    <tr>\n",
       "      <th>730</th>\n",
       "      <td>952</td>\n",
       "      <td>2184018</td>\n",
       "      <td>Yes</td>\n",
       "      <td>10</td>\n",
       "      <td>30</td>\n",
       "      <td>E1</td>\n",
       "      <td>42.86</td>\n",
       "      <td>42.86</td>\n",
       "      <td>0.00</td>\n",
       "      <td>No</td>\n",
       "      <td>No</td>\n",
       "      <td>Male</td>\n",
       "      <td>Employee Referral</td>\n",
       "      <td>4</td>\n",
       "      <td>Noida</td>\n",
       "      <td>NaN</td>\n",
       "      <td>2</td>\n",
       "      <td>Joined</td>\n",
       "      <td>INFRA</td>\n",
       "    </tr>\n",
       "    <tr>\n",
       "      <th>780</th>\n",
       "      <td>1011</td>\n",
       "      <td>2189775</td>\n",
       "      <td>Yes</td>\n",
       "      <td>13</td>\n",
       "      <td>60</td>\n",
       "      <td>E2</td>\n",
       "      <td>38.55</td>\n",
       "      <td>38.55</td>\n",
       "      <td>0.00</td>\n",
       "      <td>No</td>\n",
       "      <td>No</td>\n",
       "      <td>Male</td>\n",
       "      <td>Direct</td>\n",
       "      <td>6</td>\n",
       "      <td>Bangalore</td>\n",
       "      <td>NaN</td>\n",
       "      <td>1</td>\n",
       "      <td>Not Joined</td>\n",
       "      <td>ERS</td>\n",
       "    </tr>\n",
       "    <tr>\n",
       "      <th>835</th>\n",
       "      <td>1074</td>\n",
       "      <td>2196106</td>\n",
       "      <td>No</td>\n",
       "      <td>1</td>\n",
       "      <td>0</td>\n",
       "      <td>E2</td>\n",
       "      <td>25.00</td>\n",
       "      <td>75.00</td>\n",
       "      <td>40.00</td>\n",
       "      <td>No</td>\n",
       "      <td>No</td>\n",
       "      <td>Male</td>\n",
       "      <td>Direct</td>\n",
       "      <td>3</td>\n",
       "      <td>Noida</td>\n",
       "      <td>NaN</td>\n",
       "      <td>2</td>\n",
       "      <td>Joined</td>\n",
       "      <td>INFRA</td>\n",
       "    </tr>\n",
       "    <tr>\n",
       "      <th>879</th>\n",
       "      <td>1129</td>\n",
       "      <td>2200753</td>\n",
       "      <td>Yes</td>\n",
       "      <td>93</td>\n",
       "      <td>30</td>\n",
       "      <td>E1</td>\n",
       "      <td>50.00</td>\n",
       "      <td>68.40</td>\n",
       "      <td>12.27</td>\n",
       "      <td>No</td>\n",
       "      <td>Yes</td>\n",
       "      <td>Female</td>\n",
       "      <td>Employee Referral</td>\n",
       "      <td>1</td>\n",
       "      <td>Noida</td>\n",
       "      <td>NaN</td>\n",
       "      <td>2</td>\n",
       "      <td>Joined</td>\n",
       "      <td>INFRA</td>\n",
       "    </tr>\n",
       "    <tr>\n",
       "      <th>922</th>\n",
       "      <td>1190</td>\n",
       "      <td>2207080</td>\n",
       "      <td>Yes</td>\n",
       "      <td>87</td>\n",
       "      <td>120</td>\n",
       "      <td>E1</td>\n",
       "      <td>53.85</td>\n",
       "      <td>53.85</td>\n",
       "      <td>0.00</td>\n",
       "      <td>No</td>\n",
       "      <td>No</td>\n",
       "      <td>Male</td>\n",
       "      <td>Agency</td>\n",
       "      <td>5</td>\n",
       "      <td>Noida</td>\n",
       "      <td>NaN</td>\n",
       "      <td>5</td>\n",
       "      <td>Joined</td>\n",
       "      <td>CSMP</td>\n",
       "    </tr>\n",
       "  </tbody>\n",
       "</table>\n",
       "</div>"
      ],
      "text/plain": [
       "      Sno  Candidate Ref DOJ Extended  Duration to accept offer  \\\n",
       "397   524        2117861          Yes                        62   \n",
       "406   535        2118480           No                         4   \n",
       "414   543        2119541          Yes                         2   \n",
       "425   560        2121112           No                         3   \n",
       "446   589        2128251           No                        58   \n",
       "485   644        2143765          Yes                        41   \n",
       "526   691        2151137           No                         4   \n",
       "573   751        2160044           No                         0   \n",
       "616   809        2167868           No                         5   \n",
       "674   889        2177940           No                         0   \n",
       "730   952        2184018          Yes                        10   \n",
       "780  1011        2189775          Yes                        13   \n",
       "835  1074        2196106           No                         1   \n",
       "879  1129        2200753          Yes                        93   \n",
       "922  1190        2207080          Yes                        87   \n",
       "\n",
       "     Notice period Offered band  Pecent hike expected in CTC  \\\n",
       "397             60           E2                        40.85   \n",
       "406             30           E1                        89.66   \n",
       "414              0           E2                        56.86   \n",
       "425             30          NaN                         0.00   \n",
       "446             30           E2                        50.33   \n",
       "485             90           E1                        10.77   \n",
       "526             45           E3                        20.83   \n",
       "573              0           E2                        17.78   \n",
       "616             30           E1                        20.00   \n",
       "674             30           E1                        13.46   \n",
       "730             30           E1                        42.86   \n",
       "780             60           E2                        38.55   \n",
       "835              0           E2                        25.00   \n",
       "879             30           E1                        50.00   \n",
       "922            120           E1                        53.85   \n",
       "\n",
       "     Percent hike offered in CTC  Percent difference CTC Joining Bonus  \\\n",
       "397                        40.85                    0.00            No   \n",
       "406                        48.28                  -21.82            No   \n",
       "414                        37.25                  -12.50            No   \n",
       "425                        -6.45                   -6.45            No   \n",
       "446                        50.33                    0.00            No   \n",
       "485                        10.77                    0.00            No   \n",
       "526                        20.83                    0.00            No   \n",
       "573                        14.31                   -2.94           Yes   \n",
       "616                        -4.00                  -20.00            No   \n",
       "674                        34.56                   18.60            No   \n",
       "730                        42.86                    0.00            No   \n",
       "780                        38.55                    0.00            No   \n",
       "835                        75.00                   40.00            No   \n",
       "879                        68.40                   12.27            No   \n",
       "922                        53.85                    0.00            No   \n",
       "\n",
       "    Candidate relocate actual  Gender   Candidate Source  Rex in Yrs  \\\n",
       "397                        No    Male  Employee Referral           2   \n",
       "406                        No    Male             Direct           3   \n",
       "414                        No  Female  Employee Referral           3   \n",
       "425                        No    Male             Direct           8   \n",
       "446                        No    Male             Direct           7   \n",
       "485                        No    Male  Employee Referral           5   \n",
       "526                        No    Male  Employee Referral          13   \n",
       "573                        No    Male             Agency           9   \n",
       "616                       Yes    Male             Direct           2   \n",
       "674                        No    Male  Employee Referral           3   \n",
       "730                        No    Male  Employee Referral           4   \n",
       "780                        No    Male             Direct           6   \n",
       "835                        No    Male             Direct           3   \n",
       "879                       Yes  Female  Employee Referral           1   \n",
       "922                        No    Male             Agency           5   \n",
       "\n",
       "      Location  Age  LOB_id      Status    LOB  \n",
       "397      Noida  NaN       2      Joined  INFRA  \n",
       "406      Noida  NaN       5      Joined   CSMP  \n",
       "414      Noida  NaN       2      Joined  INFRA  \n",
       "425  Bangalore  NaN       2      Joined  INFRA  \n",
       "446    Chennai  NaN       2      Joined  INFRA  \n",
       "485    Chennai  NaN       4      Joined   BFSI  \n",
       "526      Noida  NaN       2      Joined  INFRA  \n",
       "573    Gurgaon  NaN       2      Joined  INFRA  \n",
       "616      Noida  NaN       2      Joined  INFRA  \n",
       "674    Gurgaon  NaN       5      Joined   CSMP  \n",
       "730      Noida  NaN       2      Joined  INFRA  \n",
       "780  Bangalore  NaN       1  Not Joined    ERS  \n",
       "835      Noida  NaN       2      Joined  INFRA  \n",
       "879      Noida  NaN       2      Joined  INFRA  \n",
       "922      Noida  NaN       5      Joined   CSMP  "
      ]
     },
     "execution_count": 14,
     "metadata": {},
     "output_type": "execute_result"
    }
   ],
   "source": [
    "df[df['Age'].isna()]"
   ]
  },
  {
   "cell_type": "markdown",
   "id": "2d6fc40c",
   "metadata": {},
   "source": [
    "To fill the null values for age we can use average values to fill it"
   ]
  },
  {
   "cell_type": "code",
   "execution_count": 16,
   "id": "e26daba4",
   "metadata": {},
   "outputs": [],
   "source": [
    "df['Age'].fillna(int(df.Age.mean()),inplace = True)"
   ]
  },
  {
   "cell_type": "code",
   "execution_count": 18,
   "id": "5471f100",
   "metadata": {},
   "outputs": [
    {
     "name": "stdout",
     "output_type": "stream",
     "text": [
      "<class 'pandas.core.frame.DataFrame'>\n",
      "Int64Index: 8995 entries, 0 to 8994\n",
      "Data columns (total 19 columns):\n",
      " #   Column                       Non-Null Count  Dtype  \n",
      "---  ------                       --------------  -----  \n",
      " 0   Sno                          8995 non-null   int64  \n",
      " 1   Candidate Ref                8995 non-null   int64  \n",
      " 2   DOJ Extended                 8995 non-null   object \n",
      " 3   Duration to accept offer     8995 non-null   int64  \n",
      " 4   Notice period                8995 non-null   int64  \n",
      " 5   Offered band                 8982 non-null   object \n",
      " 6   Pecent hike expected in CTC  8995 non-null   float64\n",
      " 7   Percent hike offered in CTC  8995 non-null   float64\n",
      " 8   Percent difference CTC       8995 non-null   float64\n",
      " 9   Joining Bonus                8995 non-null   object \n",
      " 10  Candidate relocate actual    8995 non-null   object \n",
      " 11  Gender                       8995 non-null   object \n",
      " 12  Candidate Source             8995 non-null   object \n",
      " 13  Rex in Yrs                   8995 non-null   int64  \n",
      " 14  Location                     8995 non-null   object \n",
      " 15  Age                          8995 non-null   float64\n",
      " 16  LOB_id                       8995 non-null   int64  \n",
      " 17  Status                       8995 non-null   object \n",
      " 18  LOB                          8995 non-null   object \n",
      "dtypes: float64(4), int64(6), object(9)\n",
      "memory usage: 1.4+ MB\n"
     ]
    }
   ],
   "source": [
    "df.info()"
   ]
  },
  {
   "cell_type": "markdown",
   "id": "a6d78786",
   "metadata": {},
   "source": [
    "Now as we can see we have remove the null values from age column now we do this with the offered band column but with different method"
   ]
  },
  {
   "cell_type": "code",
   "execution_count": 21,
   "id": "98d2347e",
   "metadata": {},
   "outputs": [
    {
     "data": {
      "text/html": [
       "<div>\n",
       "<style scoped>\n",
       "    .dataframe tbody tr th:only-of-type {\n",
       "        vertical-align: middle;\n",
       "    }\n",
       "\n",
       "    .dataframe tbody tr th {\n",
       "        vertical-align: top;\n",
       "    }\n",
       "\n",
       "    .dataframe thead th {\n",
       "        text-align: right;\n",
       "    }\n",
       "</style>\n",
       "<table border=\"1\" class=\"dataframe\">\n",
       "  <thead>\n",
       "    <tr style=\"text-align: right;\">\n",
       "      <th></th>\n",
       "      <th>Sno</th>\n",
       "      <th>Candidate Ref</th>\n",
       "      <th>DOJ Extended</th>\n",
       "      <th>Duration to accept offer</th>\n",
       "      <th>Notice period</th>\n",
       "      <th>Offered band</th>\n",
       "      <th>Pecent hike expected in CTC</th>\n",
       "      <th>Percent hike offered in CTC</th>\n",
       "      <th>Percent difference CTC</th>\n",
       "      <th>Joining Bonus</th>\n",
       "      <th>Candidate relocate actual</th>\n",
       "      <th>Gender</th>\n",
       "      <th>Candidate Source</th>\n",
       "      <th>Rex in Yrs</th>\n",
       "      <th>Location</th>\n",
       "      <th>Age</th>\n",
       "      <th>LOB_id</th>\n",
       "      <th>Status</th>\n",
       "      <th>LOB</th>\n",
       "    </tr>\n",
       "  </thead>\n",
       "  <tbody>\n",
       "    <tr>\n",
       "      <th>27</th>\n",
       "      <td>30</td>\n",
       "      <td>2207823</td>\n",
       "      <td>Yes</td>\n",
       "      <td>19</td>\n",
       "      <td>30</td>\n",
       "      <td>NaN</td>\n",
       "      <td>42.85</td>\n",
       "      <td>42.85</td>\n",
       "      <td>0.00</td>\n",
       "      <td>No</td>\n",
       "      <td>No</td>\n",
       "      <td>Male</td>\n",
       "      <td>Direct</td>\n",
       "      <td>7</td>\n",
       "      <td>Noida</td>\n",
       "      <td>28.0</td>\n",
       "      <td>2</td>\n",
       "      <td>Joined</td>\n",
       "      <td>INFRA</td>\n",
       "    </tr>\n",
       "    <tr>\n",
       "      <th>55</th>\n",
       "      <td>68</td>\n",
       "      <td>2286381</td>\n",
       "      <td>Yes</td>\n",
       "      <td>14</td>\n",
       "      <td>30</td>\n",
       "      <td>NaN</td>\n",
       "      <td>-12.50</td>\n",
       "      <td>-12.50</td>\n",
       "      <td>0.00</td>\n",
       "      <td>No</td>\n",
       "      <td>No</td>\n",
       "      <td>Male</td>\n",
       "      <td>Direct</td>\n",
       "      <td>3</td>\n",
       "      <td>Kolkata</td>\n",
       "      <td>31.0</td>\n",
       "      <td>7</td>\n",
       "      <td>Joined</td>\n",
       "      <td>AXON</td>\n",
       "    </tr>\n",
       "    <tr>\n",
       "      <th>79</th>\n",
       "      <td>102</td>\n",
       "      <td>2365129</td>\n",
       "      <td>No</td>\n",
       "      <td>4</td>\n",
       "      <td>30</td>\n",
       "      <td>NaN</td>\n",
       "      <td>42.86</td>\n",
       "      <td>42.86</td>\n",
       "      <td>0.00</td>\n",
       "      <td>No</td>\n",
       "      <td>No</td>\n",
       "      <td>Male</td>\n",
       "      <td>Direct</td>\n",
       "      <td>2</td>\n",
       "      <td>Cochin</td>\n",
       "      <td>24.0</td>\n",
       "      <td>2</td>\n",
       "      <td>Not Joined</td>\n",
       "      <td>INFRA</td>\n",
       "    </tr>\n",
       "    <tr>\n",
       "      <th>109</th>\n",
       "      <td>139</td>\n",
       "      <td>2452418</td>\n",
       "      <td>Yes</td>\n",
       "      <td>32</td>\n",
       "      <td>30</td>\n",
       "      <td>NaN</td>\n",
       "      <td>45.30</td>\n",
       "      <td>19.66</td>\n",
       "      <td>-17.65</td>\n",
       "      <td>No</td>\n",
       "      <td>Yes</td>\n",
       "      <td>Male</td>\n",
       "      <td>Agency</td>\n",
       "      <td>7</td>\n",
       "      <td>Bangalore</td>\n",
       "      <td>30.0</td>\n",
       "      <td>6</td>\n",
       "      <td>Joined</td>\n",
       "      <td>ETS</td>\n",
       "    </tr>\n",
       "    <tr>\n",
       "      <th>138</th>\n",
       "      <td>177</td>\n",
       "      <td>2569520</td>\n",
       "      <td>No</td>\n",
       "      <td>5</td>\n",
       "      <td>30</td>\n",
       "      <td>NaN</td>\n",
       "      <td>-48.25</td>\n",
       "      <td>-48.25</td>\n",
       "      <td>0.00</td>\n",
       "      <td>No</td>\n",
       "      <td>No</td>\n",
       "      <td>Male</td>\n",
       "      <td>Employee Referral</td>\n",
       "      <td>9</td>\n",
       "      <td>Chennai</td>\n",
       "      <td>31.0</td>\n",
       "      <td>2</td>\n",
       "      <td>Joined</td>\n",
       "      <td>INFRA</td>\n",
       "    </tr>\n",
       "    <tr>\n",
       "      <th>167</th>\n",
       "      <td>213</td>\n",
       "      <td>2780669</td>\n",
       "      <td>Yes</td>\n",
       "      <td>29</td>\n",
       "      <td>60</td>\n",
       "      <td>NaN</td>\n",
       "      <td>33.33</td>\n",
       "      <td>266.67</td>\n",
       "      <td>175.00</td>\n",
       "      <td>No</td>\n",
       "      <td>No</td>\n",
       "      <td>Male</td>\n",
       "      <td>Agency</td>\n",
       "      <td>9</td>\n",
       "      <td>Noida</td>\n",
       "      <td>32.0</td>\n",
       "      <td>1</td>\n",
       "      <td>Not Joined</td>\n",
       "      <td>ERS</td>\n",
       "    </tr>\n",
       "    <tr>\n",
       "      <th>194</th>\n",
       "      <td>245</td>\n",
       "      <td>2845929</td>\n",
       "      <td>Yes</td>\n",
       "      <td>55</td>\n",
       "      <td>30</td>\n",
       "      <td>NaN</td>\n",
       "      <td>37.50</td>\n",
       "      <td>25.00</td>\n",
       "      <td>-9.09</td>\n",
       "      <td>No</td>\n",
       "      <td>Yes</td>\n",
       "      <td>Female</td>\n",
       "      <td>Employee Referral</td>\n",
       "      <td>3</td>\n",
       "      <td>Bangalore</td>\n",
       "      <td>25.0</td>\n",
       "      <td>2</td>\n",
       "      <td>Joined</td>\n",
       "      <td>INFRA</td>\n",
       "    </tr>\n",
       "    <tr>\n",
       "      <th>227</th>\n",
       "      <td>291</td>\n",
       "      <td>3211382</td>\n",
       "      <td>No</td>\n",
       "      <td>4</td>\n",
       "      <td>30</td>\n",
       "      <td>NaN</td>\n",
       "      <td>42.85</td>\n",
       "      <td>42.85</td>\n",
       "      <td>0.00</td>\n",
       "      <td>No</td>\n",
       "      <td>No</td>\n",
       "      <td>Male</td>\n",
       "      <td>Agency</td>\n",
       "      <td>4</td>\n",
       "      <td>Bangalore</td>\n",
       "      <td>30.0</td>\n",
       "      <td>2</td>\n",
       "      <td>Joined</td>\n",
       "      <td>INFRA</td>\n",
       "    </tr>\n",
       "    <tr>\n",
       "      <th>281</th>\n",
       "      <td>360</td>\n",
       "      <td>3300563</td>\n",
       "      <td>Yes</td>\n",
       "      <td>29</td>\n",
       "      <td>30</td>\n",
       "      <td>NaN</td>\n",
       "      <td>-30.00</td>\n",
       "      <td>-30.60</td>\n",
       "      <td>-0.85</td>\n",
       "      <td>No</td>\n",
       "      <td>No</td>\n",
       "      <td>Male</td>\n",
       "      <td>Employee Referral</td>\n",
       "      <td>8</td>\n",
       "      <td>Noida</td>\n",
       "      <td>33.0</td>\n",
       "      <td>5</td>\n",
       "      <td>Joined</td>\n",
       "      <td>CSMP</td>\n",
       "    </tr>\n",
       "    <tr>\n",
       "      <th>319</th>\n",
       "      <td>402</td>\n",
       "      <td>3379843</td>\n",
       "      <td>No</td>\n",
       "      <td>17</td>\n",
       "      <td>0</td>\n",
       "      <td>NaN</td>\n",
       "      <td>-12.04</td>\n",
       "      <td>-12.04</td>\n",
       "      <td>0.00</td>\n",
       "      <td>No</td>\n",
       "      <td>No</td>\n",
       "      <td>Male</td>\n",
       "      <td>Agency</td>\n",
       "      <td>2</td>\n",
       "      <td>Chennai</td>\n",
       "      <td>28.0</td>\n",
       "      <td>2</td>\n",
       "      <td>Not Joined</td>\n",
       "      <td>INFRA</td>\n",
       "    </tr>\n",
       "    <tr>\n",
       "      <th>355</th>\n",
       "      <td>461</td>\n",
       "      <td>3644811</td>\n",
       "      <td>No</td>\n",
       "      <td>7</td>\n",
       "      <td>0</td>\n",
       "      <td>NaN</td>\n",
       "      <td>-24.17</td>\n",
       "      <td>8.33</td>\n",
       "      <td>42.86</td>\n",
       "      <td>No</td>\n",
       "      <td>No</td>\n",
       "      <td>Male</td>\n",
       "      <td>Employee Referral</td>\n",
       "      <td>6</td>\n",
       "      <td>Bangalore</td>\n",
       "      <td>32.0</td>\n",
       "      <td>2</td>\n",
       "      <td>Joined</td>\n",
       "      <td>INFRA</td>\n",
       "    </tr>\n",
       "    <tr>\n",
       "      <th>393</th>\n",
       "      <td>519</td>\n",
       "      <td>2116859</td>\n",
       "      <td>Yes</td>\n",
       "      <td>70</td>\n",
       "      <td>60</td>\n",
       "      <td>NaN</td>\n",
       "      <td>34.96</td>\n",
       "      <td>30.25</td>\n",
       "      <td>-3.49</td>\n",
       "      <td>No</td>\n",
       "      <td>No</td>\n",
       "      <td>Male</td>\n",
       "      <td>Direct</td>\n",
       "      <td>4</td>\n",
       "      <td>Noida</td>\n",
       "      <td>29.0</td>\n",
       "      <td>2</td>\n",
       "      <td>Joined</td>\n",
       "      <td>INFRA</td>\n",
       "    </tr>\n",
       "    <tr>\n",
       "      <th>425</th>\n",
       "      <td>560</td>\n",
       "      <td>2121112</td>\n",
       "      <td>No</td>\n",
       "      <td>3</td>\n",
       "      <td>30</td>\n",
       "      <td>NaN</td>\n",
       "      <td>0.00</td>\n",
       "      <td>-6.45</td>\n",
       "      <td>-6.45</td>\n",
       "      <td>No</td>\n",
       "      <td>No</td>\n",
       "      <td>Male</td>\n",
       "      <td>Direct</td>\n",
       "      <td>8</td>\n",
       "      <td>Bangalore</td>\n",
       "      <td>29.0</td>\n",
       "      <td>2</td>\n",
       "      <td>Joined</td>\n",
       "      <td>INFRA</td>\n",
       "    </tr>\n",
       "  </tbody>\n",
       "</table>\n",
       "</div>"
      ],
      "text/plain": [
       "     Sno  Candidate Ref DOJ Extended  Duration to accept offer  Notice period  \\\n",
       "27    30        2207823          Yes                        19             30   \n",
       "55    68        2286381          Yes                        14             30   \n",
       "79   102        2365129           No                         4             30   \n",
       "109  139        2452418          Yes                        32             30   \n",
       "138  177        2569520           No                         5             30   \n",
       "167  213        2780669          Yes                        29             60   \n",
       "194  245        2845929          Yes                        55             30   \n",
       "227  291        3211382           No                         4             30   \n",
       "281  360        3300563          Yes                        29             30   \n",
       "319  402        3379843           No                        17              0   \n",
       "355  461        3644811           No                         7              0   \n",
       "393  519        2116859          Yes                        70             60   \n",
       "425  560        2121112           No                         3             30   \n",
       "\n",
       "    Offered band  Pecent hike expected in CTC  Percent hike offered in CTC  \\\n",
       "27           NaN                        42.85                        42.85   \n",
       "55           NaN                       -12.50                       -12.50   \n",
       "79           NaN                        42.86                        42.86   \n",
       "109          NaN                        45.30                        19.66   \n",
       "138          NaN                       -48.25                       -48.25   \n",
       "167          NaN                        33.33                       266.67   \n",
       "194          NaN                        37.50                        25.00   \n",
       "227          NaN                        42.85                        42.85   \n",
       "281          NaN                       -30.00                       -30.60   \n",
       "319          NaN                       -12.04                       -12.04   \n",
       "355          NaN                       -24.17                         8.33   \n",
       "393          NaN                        34.96                        30.25   \n",
       "425          NaN                         0.00                        -6.45   \n",
       "\n",
       "     Percent difference CTC Joining Bonus Candidate relocate actual  Gender  \\\n",
       "27                     0.00            No                        No    Male   \n",
       "55                     0.00            No                        No    Male   \n",
       "79                     0.00            No                        No    Male   \n",
       "109                  -17.65            No                       Yes    Male   \n",
       "138                    0.00            No                        No    Male   \n",
       "167                  175.00            No                        No    Male   \n",
       "194                   -9.09            No                       Yes  Female   \n",
       "227                    0.00            No                        No    Male   \n",
       "281                   -0.85            No                        No    Male   \n",
       "319                    0.00            No                        No    Male   \n",
       "355                   42.86            No                        No    Male   \n",
       "393                   -3.49            No                        No    Male   \n",
       "425                   -6.45            No                        No    Male   \n",
       "\n",
       "      Candidate Source  Rex in Yrs   Location   Age  LOB_id      Status    LOB  \n",
       "27              Direct           7      Noida  28.0       2      Joined  INFRA  \n",
       "55              Direct           3    Kolkata  31.0       7      Joined   AXON  \n",
       "79              Direct           2     Cochin  24.0       2  Not Joined  INFRA  \n",
       "109             Agency           7  Bangalore  30.0       6      Joined    ETS  \n",
       "138  Employee Referral           9    Chennai  31.0       2      Joined  INFRA  \n",
       "167             Agency           9      Noida  32.0       1  Not Joined    ERS  \n",
       "194  Employee Referral           3  Bangalore  25.0       2      Joined  INFRA  \n",
       "227             Agency           4  Bangalore  30.0       2      Joined  INFRA  \n",
       "281  Employee Referral           8      Noida  33.0       5      Joined   CSMP  \n",
       "319             Agency           2    Chennai  28.0       2  Not Joined  INFRA  \n",
       "355  Employee Referral           6  Bangalore  32.0       2      Joined  INFRA  \n",
       "393             Direct           4      Noida  29.0       2      Joined  INFRA  \n",
       "425             Direct           8  Bangalore  29.0       2      Joined  INFRA  "
      ]
     },
     "execution_count": 21,
     "metadata": {},
     "output_type": "execute_result"
    }
   ],
   "source": [
    "df[df['Offered band'].isna()]"
   ]
  },
  {
   "cell_type": "code",
   "execution_count": null,
   "id": "427fcf97",
   "metadata": {},
   "outputs": [],
   "source": []
  },
  {
   "cell_type": "markdown",
   "id": "a6bf1a60",
   "metadata": {},
   "source": [
    "### 1. How is duration to accept offer affect the joining Status\n"
   ]
  },
  {
   "cell_type": "code",
   "execution_count": 6,
   "id": "706c5937",
   "metadata": {},
   "outputs": [
    {
     "data": {
      "text/plain": [
       "Joined        81.300723\n",
       "Not Joined    18.699277\n",
       "Name: Status, dtype: float64"
      ]
     },
     "execution_count": 6,
     "metadata": {},
     "output_type": "execute_result"
    }
   ],
   "source": [
    "df.Status.value_counts(normalize=True)*100"
   ]
  },
  {
   "cell_type": "markdown",
   "id": "57e8fddb",
   "metadata": {},
   "source": [
    "From this we know that around 81% joined the company"
   ]
  },
  {
   "cell_type": "code",
   "execution_count": 9,
   "id": "6818ad1b",
   "metadata": {},
   "outputs": [
    {
     "data": {
      "text/plain": [
       "count    8995.000000\n",
       "mean       21.434464\n",
       "std        25.811616\n",
       "min         0.000000\n",
       "25%         3.000000\n",
       "50%        10.000000\n",
       "75%        33.000000\n",
       "max       224.000000\n",
       "Name: Duration to accept offer, dtype: float64"
      ]
     },
     "execution_count": 9,
     "metadata": {},
     "output_type": "execute_result"
    }
   ],
   "source": [
    "df['Duration to accept offer'].describe()"
   ]
  },
  {
   "cell_type": "markdown",
   "id": "274160d9",
   "metadata": {},
   "source": [
    "To check if the column Duration to accept offer follow normal distribution"
   ]
  },
  {
   "cell_type": "code",
   "execution_count": 23,
   "id": "11ee93cf",
   "metadata": {},
   "outputs": [
    {
     "name": "stderr",
     "output_type": "stream",
     "text": [
      "C:\\Users\\pranchauhan\\Anaconda3\\lib\\site-packages\\seaborn\\_decorators.py:36: FutureWarning: Pass the following variable as a keyword arg: x. From version 0.12, the only valid positional argument will be `data`, and passing other arguments without an explicit keyword will result in an error or misinterpretation.\n",
      "  warnings.warn(\n"
     ]
    },
    {
     "data": {
      "text/plain": [
       "<AxesSubplot:xlabel='Duration to accept offer'>"
      ]
     },
     "execution_count": 23,
     "metadata": {},
     "output_type": "execute_result"
    },
    {
     "data": {
      "image/png": "[encoded data removed]",
      "text/plain": [
       "<Figure size 432x288 with 1 Axes>"
      ]
     },
     "metadata": {
      "needs_background": "light"
     },
     "output_type": "display_data"
    }
   ],
   "source": [
    "sns.boxplot(df['Duration to accept offer'])"
   ]
  },
  {
   "cell_type": "code",
   "execution_count": 25,
   "id": "8b1e5a41",
   "metadata": {},
   "outputs": [],
   "source": [
    "q3 = df['Duration to accept offer'].quantile(0.75)\n",
    "q1 =  df['Duration to accept offer'].quantile(0.25)"
   ]
  },
  {
   "cell_type": "code",
   "execution_count": 26,
   "id": "e8a14c07",
   "metadata": {},
   "outputs": [],
   "source": [
    "iqr = st.iqr(df['Duration to accept offer'])"
   ]
  },
  {
   "cell_type": "code",
   "execution_count": 27,
   "id": "fb487c32",
   "metadata": {},
   "outputs": [
    {
     "name": "stdout",
     "output_type": "stream",
     "text": [
      "78.0 -42.0\n"
     ]
    }
   ],
   "source": [
    "uw = q3 + 1.5*iqr\n",
    "lw = q1 - 1.5*iqr\n",
    "print(uw,lw)"
   ]
  },
  {
   "cell_type": "markdown",
   "id": "20471c71",
   "metadata": {},
   "source": [
    "The duration above 78 days is considered as outliers which affect our data so we can truncate our data to just work without outliers"
   ]
  },
  {
   "cell_type": "code",
   "execution_count": 50,
   "id": "549acade",
   "metadata": {
    "scrolled": true
   },
   "outputs": [
    {
     "data": {
      "text/html": [
       "<div>\n",
       "<style scoped>\n",
       "    .dataframe tbody tr th:only-of-type {\n",
       "        vertical-align: middle;\n",
       "    }\n",
       "\n",
       "    .dataframe tbody tr th {\n",
       "        vertical-align: top;\n",
       "    }\n",
       "\n",
       "    .dataframe thead th {\n",
       "        text-align: right;\n",
       "    }\n",
       "</style>\n",
       "<table border=\"1\" class=\"dataframe\">\n",
       "  <thead>\n",
       "    <tr style=\"text-align: right;\">\n",
       "      <th></th>\n",
       "      <th>Sno</th>\n",
       "      <th>Candidate Ref</th>\n",
       "      <th>DOJ Extended</th>\n",
       "      <th>Duration to accept offer</th>\n",
       "      <th>Notice period</th>\n",
       "      <th>Offered band</th>\n",
       "      <th>Pecent hike expected in CTC</th>\n",
       "      <th>Percent hike offered in CTC</th>\n",
       "      <th>Percent difference CTC</th>\n",
       "      <th>Joining Bonus</th>\n",
       "      <th>Candidate relocate actual</th>\n",
       "      <th>Gender</th>\n",
       "      <th>Candidate Source</th>\n",
       "      <th>Rex in Yrs</th>\n",
       "      <th>Location</th>\n",
       "      <th>Age</th>\n",
       "      <th>LOB_id</th>\n",
       "      <th>Status</th>\n",
       "      <th>LOB</th>\n",
       "    </tr>\n",
       "  </thead>\n",
       "  <tbody>\n",
       "    <tr>\n",
       "      <th>0</th>\n",
       "      <td>1</td>\n",
       "      <td>2110407</td>\n",
       "      <td>Yes</td>\n",
       "      <td>14</td>\n",
       "      <td>30</td>\n",
       "      <td>E2</td>\n",
       "      <td>-20.79</td>\n",
       "      <td>13.16</td>\n",
       "      <td>42.86</td>\n",
       "      <td>No</td>\n",
       "      <td>No</td>\n",
       "      <td>Female</td>\n",
       "      <td>Agency</td>\n",
       "      <td>7</td>\n",
       "      <td>Noida</td>\n",
       "      <td>34.0</td>\n",
       "      <td>1</td>\n",
       "      <td>Joined</td>\n",
       "      <td>ERS</td>\n",
       "    </tr>\n",
       "    <tr>\n",
       "      <th>1</th>\n",
       "      <td>2</td>\n",
       "      <td>2112635</td>\n",
       "      <td>No</td>\n",
       "      <td>18</td>\n",
       "      <td>30</td>\n",
       "      <td>E2</td>\n",
       "      <td>50.00</td>\n",
       "      <td>320.00</td>\n",
       "      <td>180.00</td>\n",
       "      <td>No</td>\n",
       "      <td>No</td>\n",
       "      <td>Male</td>\n",
       "      <td>Employee Referral</td>\n",
       "      <td>8</td>\n",
       "      <td>Chennai</td>\n",
       "      <td>34.0</td>\n",
       "      <td>2</td>\n",
       "      <td>Joined</td>\n",
       "      <td>INFRA</td>\n",
       "    </tr>\n",
       "    <tr>\n",
       "      <th>2</th>\n",
       "      <td>3</td>\n",
       "      <td>2112838</td>\n",
       "      <td>No</td>\n",
       "      <td>3</td>\n",
       "      <td>45</td>\n",
       "      <td>E2</td>\n",
       "      <td>42.84</td>\n",
       "      <td>42.84</td>\n",
       "      <td>0.00</td>\n",
       "      <td>No</td>\n",
       "      <td>No</td>\n",
       "      <td>Male</td>\n",
       "      <td>Agency</td>\n",
       "      <td>4</td>\n",
       "      <td>Noida</td>\n",
       "      <td>27.0</td>\n",
       "      <td>2</td>\n",
       "      <td>Joined</td>\n",
       "      <td>INFRA</td>\n",
       "    </tr>\n",
       "    <tr>\n",
       "      <th>3</th>\n",
       "      <td>4</td>\n",
       "      <td>2115021</td>\n",
       "      <td>No</td>\n",
       "      <td>26</td>\n",
       "      <td>30</td>\n",
       "      <td>E2</td>\n",
       "      <td>42.84</td>\n",
       "      <td>42.84</td>\n",
       "      <td>0.00</td>\n",
       "      <td>No</td>\n",
       "      <td>No</td>\n",
       "      <td>Male</td>\n",
       "      <td>Employee Referral</td>\n",
       "      <td>4</td>\n",
       "      <td>Noida</td>\n",
       "      <td>34.0</td>\n",
       "      <td>2</td>\n",
       "      <td>Joined</td>\n",
       "      <td>INFRA</td>\n",
       "    </tr>\n",
       "    <tr>\n",
       "      <th>4</th>\n",
       "      <td>5</td>\n",
       "      <td>2115125</td>\n",
       "      <td>Yes</td>\n",
       "      <td>1</td>\n",
       "      <td>120</td>\n",
       "      <td>E2</td>\n",
       "      <td>42.59</td>\n",
       "      <td>42.59</td>\n",
       "      <td>0.00</td>\n",
       "      <td>No</td>\n",
       "      <td>Yes</td>\n",
       "      <td>Male</td>\n",
       "      <td>Employee Referral</td>\n",
       "      <td>6</td>\n",
       "      <td>Noida</td>\n",
       "      <td>34.0</td>\n",
       "      <td>2</td>\n",
       "      <td>Joined</td>\n",
       "      <td>INFRA</td>\n",
       "    </tr>\n",
       "  </tbody>\n",
       "</table>\n",
       "</div>"
      ],
      "text/plain": [
       "   Sno  Candidate Ref DOJ Extended  Duration to accept offer  Notice period  \\\n",
       "0    1        2110407          Yes                        14             30   \n",
       "1    2        2112635           No                        18             30   \n",
       "2    3        2112838           No                         3             45   \n",
       "3    4        2115021           No                        26             30   \n",
       "4    5        2115125          Yes                         1            120   \n",
       "\n",
       "  Offered band  Pecent hike expected in CTC  Percent hike offered in CTC  \\\n",
       "0           E2                       -20.79                        13.16   \n",
       "1           E2                        50.00                       320.00   \n",
       "2           E2                        42.84                        42.84   \n",
       "3           E2                        42.84                        42.84   \n",
       "4           E2                        42.59                        42.59   \n",
       "\n",
       "   Percent difference CTC Joining Bonus Candidate relocate actual  Gender  \\\n",
       "0                   42.86            No                        No  Female   \n",
       "1                  180.00            No                        No    Male   \n",
       "2                    0.00            No                        No    Male   \n",
       "3                    0.00            No                        No    Male   \n",
       "4                    0.00            No                       Yes    Male   \n",
       "\n",
       "    Candidate Source  Rex in Yrs Location   Age  LOB_id  Status    LOB  \n",
       "0             Agency           7    Noida  34.0       1  Joined    ERS  \n",
       "1  Employee Referral           8  Chennai  34.0       2  Joined  INFRA  \n",
       "2             Agency           4    Noida  27.0       2  Joined  INFRA  \n",
       "3  Employee Referral           4    Noida  34.0       2  Joined  INFRA  \n",
       "4  Employee Referral           6    Noida  34.0       2  Joined  INFRA  "
      ]
     },
     "execution_count": 50,
     "metadata": {},
     "output_type": "execute_result"
    }
   ],
   "source": [
    "table2 = df[df['Duration to accept offer'] <=78]\n",
    "table2.head()"
   ]
  },
  {
   "cell_type": "code",
   "execution_count": 51,
   "id": "dce065e9",
   "metadata": {
    "scrolled": true
   },
   "outputs": [
    {
     "data": {
      "text/plain": [
       "count    8601.000000\n",
       "mean       17.945471\n",
       "std        20.183436\n",
       "min         0.000000\n",
       "25%         2.000000\n",
       "50%         8.000000\n",
       "75%        29.000000\n",
       "max        78.000000\n",
       "Name: Duration to accept offer, dtype: float64"
      ]
     },
     "execution_count": 51,
     "metadata": {},
     "output_type": "execute_result"
    }
   ],
   "source": [
    "table2['Duration to accept offer'].describe()"
   ]
  },
  {
   "cell_type": "code",
   "execution_count": 52,
   "id": "9d92e23c",
   "metadata": {
    "scrolled": true
   },
   "outputs": [
    {
     "name": "stderr",
     "output_type": "stream",
     "text": [
      "C:\\Users\\pranchauhan\\Anaconda3\\lib\\site-packages\\seaborn\\_decorators.py:36: FutureWarning: Pass the following variable as a keyword arg: x. From version 0.12, the only valid positional argument will be `data`, and passing other arguments without an explicit keyword will result in an error or misinterpretation.\n",
      "  warnings.warn(\n"
     ]
    },
    {
     "data": {
      "text/plain": [
       "<AxesSubplot:xlabel='Duration to accept offer'>"
      ]
     },
     "execution_count": 52,
     "metadata": {},
     "output_type": "execute_result"
    },
    {
     "data": {
      "image/png": "[encoded data removed]",
      "text/plain": [
       "<Figure size 432x288 with 1 Axes>"
      ]
     },
     "metadata": {
      "needs_background": "light"
     },
     "output_type": "display_data"
    }
   ],
   "source": [
    "sns.boxplot(table2['Duration to accept offer'])"
   ]
  },
  {
   "cell_type": "code",
   "execution_count": 53,
   "id": "104435c1",
   "metadata": {
    "scrolled": false
   },
   "outputs": [
    {
     "name": "stderr",
     "output_type": "stream",
     "text": [
      "C:\\Users\\pranchauhan\\Anaconda3\\lib\\site-packages\\seaborn\\distributions.py:2557: FutureWarning: `distplot` is a deprecated function and will be removed in a future version. Please adapt your code to use either `displot` (a figure-level function with similar flexibility) or `histplot` (an axes-level function for histograms).\n",
      "  warnings.warn(msg, FutureWarning)\n"
     ]
    },
    {
     "data": {
      "text/plain": [
       "<AxesSubplot:xlabel='Duration to accept offer', ylabel='Density'>"
      ]
     },
     "execution_count": 53,
     "metadata": {},
     "output_type": "execute_result"
    },
    {
     "data": {
      "image/png": "[encoded data removed]",
      "text/plain": [
       "<Figure size 432x288 with 1 Axes>"
      ]
     },
     "metadata": {
      "needs_background": "light"
     },
     "output_type": "display_data"
    }
   ],
   "source": [
    "sns.distplot(table2['Duration to accept offer'])"
   ]
  },
  {
   "cell_type": "markdown",
   "id": "a692007b",
   "metadata": {},
   "source": [
    "    Testing normality of data\n",
    "    H0: The data is normal\n",
    "    H1: the data is not normal\n",
    "    alpha = 0.05"
   ]
  },
  {
   "cell_type": "code",
   "execution_count": 56,
   "id": "96599b7d",
   "metadata": {
    "scrolled": true
   },
   "outputs": [
    {
     "data": {
      "text/plain": [
       "NormaltestResult(statistic=1384.5675781637126, pvalue=2.212944339949195e-301)"
      ]
     },
     "execution_count": 56,
     "metadata": {},
     "output_type": "execute_result"
    }
   ],
   "source": [
    "st.normaltest(table2['Duration to accept offer'])"
   ]
  },
  {
   "cell_type": "markdown",
   "id": "a43ae7cb",
   "metadata": {},
   "source": [
    "pvalue < alpha(0.05) --> we reject the H0 --> Hence the Duration to accept offer doesn't follow normal distribution"
   ]
  },
  {
   "cell_type": "code",
   "execution_count": null,
   "id": "ec17f6ef",
   "metadata": {},
   "outputs": [],
   "source": []
  },
  {
   "cell_type": "markdown",
   "id": "715d7093",
   "metadata": {},
   "source": [
    "### 2. The effect of hike given is seen below"
   ]
  },
  {
   "cell_type": "code",
   "execution_count": 28,
   "id": "3dade514",
   "metadata": {
    "scrolled": true
   },
   "outputs": [
    {
     "data": {
      "text/html": [
       "<div>\n",
       "<style scoped>\n",
       "    .dataframe tbody tr th:only-of-type {\n",
       "        vertical-align: middle;\n",
       "    }\n",
       "\n",
       "    .dataframe tbody tr th {\n",
       "        vertical-align: top;\n",
       "    }\n",
       "\n",
       "    .dataframe thead th {\n",
       "        text-align: right;\n",
       "    }\n",
       "</style>\n",
       "<table border=\"1\" class=\"dataframe\">\n",
       "  <thead>\n",
       "    <tr style=\"text-align: right;\">\n",
       "      <th></th>\n",
       "      <th>count</th>\n",
       "      <th>mean</th>\n",
       "      <th>std</th>\n",
       "      <th>min</th>\n",
       "      <th>25%</th>\n",
       "      <th>50%</th>\n",
       "      <th>75%</th>\n",
       "      <th>max</th>\n",
       "    </tr>\n",
       "    <tr>\n",
       "      <th>Status</th>\n",
       "      <th></th>\n",
       "      <th></th>\n",
       "      <th></th>\n",
       "      <th></th>\n",
       "      <th></th>\n",
       "      <th></th>\n",
       "      <th></th>\n",
       "      <th></th>\n",
       "    </tr>\n",
       "  </thead>\n",
       "  <tbody>\n",
       "    <tr>\n",
       "      <th>Joined</th>\n",
       "      <td>7313.0</td>\n",
       "      <td>41.133205</td>\n",
       "      <td>36.940232</td>\n",
       "      <td>-60.00</td>\n",
       "      <td>22.2200</td>\n",
       "      <td>36.360</td>\n",
       "      <td>50.00</td>\n",
       "      <td>471.43</td>\n",
       "    </tr>\n",
       "    <tr>\n",
       "      <th>Not Joined</th>\n",
       "      <td>1682.0</td>\n",
       "      <td>38.588460</td>\n",
       "      <td>31.904401</td>\n",
       "      <td>-60.53</td>\n",
       "      <td>22.0675</td>\n",
       "      <td>34.945</td>\n",
       "      <td>48.33</td>\n",
       "      <td>287.50</td>\n",
       "    </tr>\n",
       "  </tbody>\n",
       "</table>\n",
       "</div>"
      ],
      "text/plain": [
       "             count       mean        std    min      25%     50%    75%  \\\n",
       "Status                                                                    \n",
       "Joined      7313.0  41.133205  36.940232 -60.00  22.2200  36.360  50.00   \n",
       "Not Joined  1682.0  38.588460  31.904401 -60.53  22.0675  34.945  48.33   \n",
       "\n",
       "               max  \n",
       "Status              \n",
       "Joined      471.43  \n",
       "Not Joined  287.50  "
      ]
     },
     "execution_count": 28,
     "metadata": {},
     "output_type": "execute_result"
    }
   ],
   "source": [
    "df.groupby('Status')['Percent hike offered in CTC'].describe()"
   ]
  },
  {
   "cell_type": "code",
   "execution_count": 89,
   "id": "c9b95de9",
   "metadata": {},
   "outputs": [
    {
     "data": {
      "text/plain": [
       "<AxesSubplot:xlabel='Status', ylabel='Percent hike offered in CTC'>"
      ]
     },
     "execution_count": 89,
     "metadata": {},
     "output_type": "execute_result"
    },
    {
     "data": {
      "image/png": "[encoded data removed]",
      "text/plain": [
       "<Figure size 432x288 with 1 Axes>"
      ]
     },
     "metadata": {
      "needs_background": "light"
     },
     "output_type": "display_data"
    }
   ],
   "source": [
    "sns.boxplot(x = df.Status,y = df['Percent hike offered in CTC'])"
   ]
  },
  {
   "cell_type": "code",
   "execution_count": 6,
   "id": "b346897a",
   "metadata": {},
   "outputs": [],
   "source": [
    "hist_hike = df[['Percent hike offered in CTC','Status']]"
   ]
  },
  {
   "cell_type": "code",
   "execution_count": 61,
   "id": "8059f558",
   "metadata": {
    "scrolled": false
   },
   "outputs": [
    {
     "name": "stderr",
     "output_type": "stream",
     "text": [
      "C:\\Users\\pranchauhan\\Anaconda3\\lib\\site-packages\\seaborn\\distributions.py:2557: FutureWarning: `distplot` is a deprecated function and will be removed in a future version. Please adapt your code to use either `displot` (a figure-level function with similar flexibility) or `histplot` (an axes-level function for histograms).\n",
      "  warnings.warn(msg, FutureWarning)\n"
     ]
    },
    {
     "data": {
      "text/plain": [
       "<AxesSubplot:xlabel='Percent hike offered in CTC', ylabel='Density'>"
      ]
     },
     "execution_count": 61,
     "metadata": {},
     "output_type": "execute_result"
    },
    {
     "data": {
      "image/png": "[encoded data removed]",
      "text/plain": [
       "<Figure size 432x288 with 1 Axes>"
      ]
     },
     "metadata": {
      "needs_background": "light"
     },
     "output_type": "display_data"
    }
   ],
   "source": [
    "sns.distplot(df['Percent hike offered in CTC'])"
   ]
  },
  {
   "cell_type": "code",
   "execution_count": 62,
   "id": "47439f63",
   "metadata": {},
   "outputs": [
    {
     "name": "stderr",
     "output_type": "stream",
     "text": [
      "C:\\Users\\pranchauhan\\Anaconda3\\lib\\site-packages\\seaborn\\_decorators.py:36: FutureWarning: Pass the following variable as a keyword arg: x. From version 0.12, the only valid positional argument will be `data`, and passing other arguments without an explicit keyword will result in an error or misinterpretation.\n",
      "  warnings.warn(\n"
     ]
    },
    {
     "data": {
      "text/plain": [
       "<AxesSubplot:xlabel='Percent hike offered in CTC'>"
      ]
     },
     "execution_count": 62,
     "metadata": {},
     "output_type": "execute_result"
    },
    {
     "data": {
      "image/png": "[encoded data removed]",
      "text/plain": [
       "<Figure size 432x288 with 1 Axes>"
      ]
     },
     "metadata": {
      "needs_background": "light"
     },
     "output_type": "display_data"
    }
   ],
   "source": [
    "sns.boxplot(df['Percent hike offered in CTC'])"
   ]
  },
  {
   "cell_type": "code",
   "execution_count": 63,
   "id": "770489fa",
   "metadata": {},
   "outputs": [],
   "source": [
    "q3 = df['Percent hike offered in CTC'].quantile(0.75)\n",
    "q1 =  df['Percent hike offered in CTC'].quantile(0.25)"
   ]
  },
  {
   "cell_type": "code",
   "execution_count": 64,
   "id": "b880b279",
   "metadata": {},
   "outputs": [],
   "source": [
    "iqr = st.iqr(df['Percent hike offered in CTC'])"
   ]
  },
  {
   "cell_type": "code",
   "execution_count": 65,
   "id": "5c9e2ace",
   "metadata": {},
   "outputs": [
    {
     "name": "stdout",
     "output_type": "stream",
     "text": [
      "91.86500000000001 -19.775000000000002\n"
     ]
    }
   ],
   "source": [
    "uw = q3 + 1.5*iqr\n",
    "lw = q1 - 1.5*iqr\n",
    "print(uw,lw)"
   ]
  },
  {
   "cell_type": "markdown",
   "id": "4224dbcd",
   "metadata": {},
   "source": [
    "Removing the outliers for analysis"
   ]
  },
  {
   "cell_type": "code",
   "execution_count": 74,
   "id": "ac917bfc",
   "metadata": {
    "scrolled": true
   },
   "outputs": [
    {
     "data": {
      "text/html": [
       "<div>\n",
       "<style scoped>\n",
       "    .dataframe tbody tr th:only-of-type {\n",
       "        vertical-align: middle;\n",
       "    }\n",
       "\n",
       "    .dataframe tbody tr th {\n",
       "        vertical-align: top;\n",
       "    }\n",
       "\n",
       "    .dataframe thead th {\n",
       "        text-align: right;\n",
       "    }\n",
       "</style>\n",
       "<table border=\"1\" class=\"dataframe\">\n",
       "  <thead>\n",
       "    <tr style=\"text-align: right;\">\n",
       "      <th></th>\n",
       "      <th>Sno</th>\n",
       "      <th>Candidate Ref</th>\n",
       "      <th>DOJ Extended</th>\n",
       "      <th>Duration to accept offer</th>\n",
       "      <th>Notice period</th>\n",
       "      <th>Offered band</th>\n",
       "      <th>Pecent hike expected in CTC</th>\n",
       "      <th>Percent hike offered in CTC</th>\n",
       "      <th>Percent difference CTC</th>\n",
       "      <th>Joining Bonus</th>\n",
       "      <th>Candidate relocate actual</th>\n",
       "      <th>Gender</th>\n",
       "      <th>Candidate Source</th>\n",
       "      <th>Rex in Yrs</th>\n",
       "      <th>Location</th>\n",
       "      <th>Age</th>\n",
       "      <th>LOB_id</th>\n",
       "      <th>Status</th>\n",
       "      <th>LOB</th>\n",
       "    </tr>\n",
       "  </thead>\n",
       "  <tbody>\n",
       "    <tr>\n",
       "      <th>0</th>\n",
       "      <td>1</td>\n",
       "      <td>2110407</td>\n",
       "      <td>Yes</td>\n",
       "      <td>14</td>\n",
       "      <td>30</td>\n",
       "      <td>E2</td>\n",
       "      <td>-20.79</td>\n",
       "      <td>13.16</td>\n",
       "      <td>42.86</td>\n",
       "      <td>No</td>\n",
       "      <td>No</td>\n",
       "      <td>Female</td>\n",
       "      <td>Agency</td>\n",
       "      <td>7</td>\n",
       "      <td>Noida</td>\n",
       "      <td>34.0</td>\n",
       "      <td>1</td>\n",
       "      <td>Joined</td>\n",
       "      <td>ERS</td>\n",
       "    </tr>\n",
       "    <tr>\n",
       "      <th>2</th>\n",
       "      <td>3</td>\n",
       "      <td>2112838</td>\n",
       "      <td>No</td>\n",
       "      <td>3</td>\n",
       "      <td>45</td>\n",
       "      <td>E2</td>\n",
       "      <td>42.84</td>\n",
       "      <td>42.84</td>\n",
       "      <td>0.00</td>\n",
       "      <td>No</td>\n",
       "      <td>No</td>\n",
       "      <td>Male</td>\n",
       "      <td>Agency</td>\n",
       "      <td>4</td>\n",
       "      <td>Noida</td>\n",
       "      <td>27.0</td>\n",
       "      <td>2</td>\n",
       "      <td>Joined</td>\n",
       "      <td>INFRA</td>\n",
       "    </tr>\n",
       "    <tr>\n",
       "      <th>3</th>\n",
       "      <td>4</td>\n",
       "      <td>2115021</td>\n",
       "      <td>No</td>\n",
       "      <td>26</td>\n",
       "      <td>30</td>\n",
       "      <td>E2</td>\n",
       "      <td>42.84</td>\n",
       "      <td>42.84</td>\n",
       "      <td>0.00</td>\n",
       "      <td>No</td>\n",
       "      <td>No</td>\n",
       "      <td>Male</td>\n",
       "      <td>Employee Referral</td>\n",
       "      <td>4</td>\n",
       "      <td>Noida</td>\n",
       "      <td>34.0</td>\n",
       "      <td>2</td>\n",
       "      <td>Joined</td>\n",
       "      <td>INFRA</td>\n",
       "    </tr>\n",
       "    <tr>\n",
       "      <th>4</th>\n",
       "      <td>5</td>\n",
       "      <td>2115125</td>\n",
       "      <td>Yes</td>\n",
       "      <td>1</td>\n",
       "      <td>120</td>\n",
       "      <td>E2</td>\n",
       "      <td>42.59</td>\n",
       "      <td>42.59</td>\n",
       "      <td>0.00</td>\n",
       "      <td>No</td>\n",
       "      <td>Yes</td>\n",
       "      <td>Male</td>\n",
       "      <td>Employee Referral</td>\n",
       "      <td>6</td>\n",
       "      <td>Noida</td>\n",
       "      <td>34.0</td>\n",
       "      <td>2</td>\n",
       "      <td>Joined</td>\n",
       "      <td>INFRA</td>\n",
       "    </tr>\n",
       "    <tr>\n",
       "      <th>5</th>\n",
       "      <td>6</td>\n",
       "      <td>2117167</td>\n",
       "      <td>Yes</td>\n",
       "      <td>17</td>\n",
       "      <td>30</td>\n",
       "      <td>E1</td>\n",
       "      <td>42.83</td>\n",
       "      <td>42.83</td>\n",
       "      <td>0.00</td>\n",
       "      <td>No</td>\n",
       "      <td>No</td>\n",
       "      <td>Male</td>\n",
       "      <td>Employee Referral</td>\n",
       "      <td>2</td>\n",
       "      <td>Noida</td>\n",
       "      <td>34.0</td>\n",
       "      <td>2</td>\n",
       "      <td>Joined</td>\n",
       "      <td>INFRA</td>\n",
       "    </tr>\n",
       "    <tr>\n",
       "      <th>...</th>\n",
       "      <td>...</td>\n",
       "      <td>...</td>\n",
       "      <td>...</td>\n",
       "      <td>...</td>\n",
       "      <td>...</td>\n",
       "      <td>...</td>\n",
       "      <td>...</td>\n",
       "      <td>...</td>\n",
       "      <td>...</td>\n",
       "      <td>...</td>\n",
       "      <td>...</td>\n",
       "      <td>...</td>\n",
       "      <td>...</td>\n",
       "      <td>...</td>\n",
       "      <td>...</td>\n",
       "      <td>...</td>\n",
       "      <td>...</td>\n",
       "      <td>...</td>\n",
       "      <td>...</td>\n",
       "    </tr>\n",
       "    <tr>\n",
       "      <th>8988</th>\n",
       "      <td>12305</td>\n",
       "      <td>3821706</td>\n",
       "      <td>No</td>\n",
       "      <td>1</td>\n",
       "      <td>30</td>\n",
       "      <td>E1</td>\n",
       "      <td>96.85</td>\n",
       "      <td>75.20</td>\n",
       "      <td>-11.00</td>\n",
       "      <td>No</td>\n",
       "      <td>No</td>\n",
       "      <td>Male</td>\n",
       "      <td>Agency</td>\n",
       "      <td>4</td>\n",
       "      <td>Pune</td>\n",
       "      <td>34.0</td>\n",
       "      <td>1</td>\n",
       "      <td>Joined</td>\n",
       "      <td>ERS</td>\n",
       "    </tr>\n",
       "    <tr>\n",
       "      <th>8989</th>\n",
       "      <td>12309</td>\n",
       "      <td>3822084</td>\n",
       "      <td>No</td>\n",
       "      <td>0</td>\n",
       "      <td>30</td>\n",
       "      <td>E1</td>\n",
       "      <td>50.00</td>\n",
       "      <td>50.00</td>\n",
       "      <td>0.00</td>\n",
       "      <td>No</td>\n",
       "      <td>No</td>\n",
       "      <td>Female</td>\n",
       "      <td>Agency</td>\n",
       "      <td>4</td>\n",
       "      <td>Chennai</td>\n",
       "      <td>34.0</td>\n",
       "      <td>2</td>\n",
       "      <td>Not Joined</td>\n",
       "      <td>INFRA</td>\n",
       "    </tr>\n",
       "    <tr>\n",
       "      <th>8992</th>\n",
       "      <td>12331</td>\n",
       "      <td>3834159</td>\n",
       "      <td>No</td>\n",
       "      <td>0</td>\n",
       "      <td>0</td>\n",
       "      <td>E2</td>\n",
       "      <td>35.42</td>\n",
       "      <td>35.42</td>\n",
       "      <td>0.00</td>\n",
       "      <td>No</td>\n",
       "      <td>No</td>\n",
       "      <td>Male</td>\n",
       "      <td>Direct</td>\n",
       "      <td>5</td>\n",
       "      <td>Noida</td>\n",
       "      <td>34.0</td>\n",
       "      <td>2</td>\n",
       "      <td>Joined</td>\n",
       "      <td>INFRA</td>\n",
       "    </tr>\n",
       "    <tr>\n",
       "      <th>8993</th>\n",
       "      <td>12332</td>\n",
       "      <td>3835433</td>\n",
       "      <td>No</td>\n",
       "      <td>0</td>\n",
       "      <td>30</td>\n",
       "      <td>E1</td>\n",
       "      <td>76.92</td>\n",
       "      <td>53.85</td>\n",
       "      <td>-13.04</td>\n",
       "      <td>No</td>\n",
       "      <td>No</td>\n",
       "      <td>Male</td>\n",
       "      <td>Direct</td>\n",
       "      <td>4</td>\n",
       "      <td>Noida</td>\n",
       "      <td>34.0</td>\n",
       "      <td>2</td>\n",
       "      <td>Joined</td>\n",
       "      <td>INFRA</td>\n",
       "    </tr>\n",
       "    <tr>\n",
       "      <th>8994</th>\n",
       "      <td>12333</td>\n",
       "      <td>3836076</td>\n",
       "      <td>No</td>\n",
       "      <td>2</td>\n",
       "      <td>0</td>\n",
       "      <td>E1</td>\n",
       "      <td>45.25</td>\n",
       "      <td>14.09</td>\n",
       "      <td>-21.45</td>\n",
       "      <td>No</td>\n",
       "      <td>No</td>\n",
       "      <td>Female</td>\n",
       "      <td>Employee Referral</td>\n",
       "      <td>1</td>\n",
       "      <td>Chennai</td>\n",
       "      <td>34.0</td>\n",
       "      <td>2</td>\n",
       "      <td>Joined</td>\n",
       "      <td>INFRA</td>\n",
       "    </tr>\n",
       "  </tbody>\n",
       "</table>\n",
       "<p>8318 rows × 19 columns</p>\n",
       "</div>"
      ],
      "text/plain": [
       "        Sno  Candidate Ref DOJ Extended  Duration to accept offer  \\\n",
       "0         1        2110407          Yes                        14   \n",
       "2         3        2112838           No                         3   \n",
       "3         4        2115021           No                        26   \n",
       "4         5        2115125          Yes                         1   \n",
       "5         6        2117167          Yes                        17   \n",
       "...     ...            ...          ...                       ...   \n",
       "8988  12305        3821706           No                         1   \n",
       "8989  12309        3822084           No                         0   \n",
       "8992  12331        3834159           No                         0   \n",
       "8993  12332        3835433           No                         0   \n",
       "8994  12333        3836076           No                         2   \n",
       "\n",
       "      Notice period Offered band  Pecent hike expected in CTC  \\\n",
       "0                30           E2                       -20.79   \n",
       "2                45           E2                        42.84   \n",
       "3                30           E2                        42.84   \n",
       "4               120           E2                        42.59   \n",
       "5                30           E1                        42.83   \n",
       "...             ...          ...                          ...   \n",
       "8988             30           E1                        96.85   \n",
       "8989             30           E1                        50.00   \n",
       "8992              0           E2                        35.42   \n",
       "8993             30           E1                        76.92   \n",
       "8994              0           E1                        45.25   \n",
       "\n",
       "      Percent hike offered in CTC  Percent difference CTC Joining Bonus  \\\n",
       "0                           13.16                   42.86            No   \n",
       "2                           42.84                    0.00            No   \n",
       "3                           42.84                    0.00            No   \n",
       "4                           42.59                    0.00            No   \n",
       "5                           42.83                    0.00            No   \n",
       "...                           ...                     ...           ...   \n",
       "8988                        75.20                  -11.00            No   \n",
       "8989                        50.00                    0.00            No   \n",
       "8992                        35.42                    0.00            No   \n",
       "8993                        53.85                  -13.04            No   \n",
       "8994                        14.09                  -21.45            No   \n",
       "\n",
       "     Candidate relocate actual  Gender   Candidate Source  Rex in Yrs  \\\n",
       "0                           No  Female             Agency           7   \n",
       "2                           No    Male             Agency           4   \n",
       "3                           No    Male  Employee Referral           4   \n",
       "4                          Yes    Male  Employee Referral           6   \n",
       "5                           No    Male  Employee Referral           2   \n",
       "...                        ...     ...                ...         ...   \n",
       "8988                        No    Male             Agency           4   \n",
       "8989                        No  Female             Agency           4   \n",
       "8992                        No    Male             Direct           5   \n",
       "8993                        No    Male             Direct           4   \n",
       "8994                        No  Female  Employee Referral           1   \n",
       "\n",
       "     Location   Age  LOB_id      Status    LOB  \n",
       "0       Noida  34.0       1      Joined    ERS  \n",
       "2       Noida  27.0       2      Joined  INFRA  \n",
       "3       Noida  34.0       2      Joined  INFRA  \n",
       "4       Noida  34.0       2      Joined  INFRA  \n",
       "5       Noida  34.0       2      Joined  INFRA  \n",
       "...       ...   ...     ...         ...    ...  \n",
       "8988     Pune  34.0       1      Joined    ERS  \n",
       "8989  Chennai  34.0       2  Not Joined  INFRA  \n",
       "8992    Noida  34.0       2      Joined  INFRA  \n",
       "8993    Noida  34.0       2      Joined  INFRA  \n",
       "8994  Chennai  34.0       2      Joined  INFRA  \n",
       "\n",
       "[8318 rows x 19 columns]"
      ]
     },
     "execution_count": 74,
     "metadata": {},
     "output_type": "execute_result"
    }
   ],
   "source": [
    "df1 = df[df['Percent hike offered in CTC'] <=91]\n",
    "table3 = df1[df1['Percent hike offered in CTC'] >=-19]\n",
    "table3"
   ]
  },
  {
   "cell_type": "code",
   "execution_count": 75,
   "id": "ccaa262c",
   "metadata": {},
   "outputs": [
    {
     "name": "stderr",
     "output_type": "stream",
     "text": [
      "C:\\Users\\pranchauhan\\Anaconda3\\lib\\site-packages\\seaborn\\_decorators.py:36: FutureWarning: Pass the following variable as a keyword arg: x. From version 0.12, the only valid positional argument will be `data`, and passing other arguments without an explicit keyword will result in an error or misinterpretation.\n",
      "  warnings.warn(\n"
     ]
    },
    {
     "data": {
      "text/plain": [
       "<AxesSubplot:xlabel='Percent hike offered in CTC'>"
      ]
     },
     "execution_count": 75,
     "metadata": {},
     "output_type": "execute_result"
    },
    {
     "data": {
      "image/png": "[encoded data removed]",
      "text/plain": [
       "<Figure size 432x288 with 1 Axes>"
      ]
     },
     "metadata": {
      "needs_background": "light"
     },
     "output_type": "display_data"
    }
   ],
   "source": [
    "sns.boxplot(table3['Percent hike offered in CTC'])"
   ]
  },
  {
   "cell_type": "code",
   "execution_count": 91,
   "id": "6bf271d8",
   "metadata": {},
   "outputs": [
    {
     "data": {
      "text/plain": [
       "<AxesSubplot:xlabel='Status', ylabel='Percent hike offered in CTC'>"
      ]
     },
     "execution_count": 91,
     "metadata": {},
     "output_type": "execute_result"
    },
    {
     "data": {
      "image/png": "[encoded data removed]",
      "text/plain": [
       "<Figure size 432x288 with 1 Axes>"
      ]
     },
     "metadata": {
      "needs_background": "light"
     },
     "output_type": "display_data"
    }
   ],
   "source": [
    "sns.boxplot(x = table3.Status,y = table3['Percent hike offered in CTC'])"
   ]
  },
  {
   "cell_type": "code",
   "execution_count": 76,
   "id": "82ff109e",
   "metadata": {
    "scrolled": true
   },
   "outputs": [
    {
     "name": "stderr",
     "output_type": "stream",
     "text": [
      "C:\\Users\\pranchauhan\\Anaconda3\\lib\\site-packages\\seaborn\\distributions.py:2557: FutureWarning: `distplot` is a deprecated function and will be removed in a future version. Please adapt your code to use either `displot` (a figure-level function with similar flexibility) or `histplot` (an axes-level function for histograms).\n",
      "  warnings.warn(msg, FutureWarning)\n"
     ]
    },
    {
     "data": {
      "text/plain": [
       "<AxesSubplot:xlabel='Percent hike offered in CTC', ylabel='Density'>"
      ]
     },
     "execution_count": 76,
     "metadata": {},
     "output_type": "execute_result"
    },
    {
     "data": {
      "image/png": "[encoded data removed]",
      "text/plain": [
       "<Figure size 432x288 with 1 Axes>"
      ]
     },
     "metadata": {
      "needs_background": "light"
     },
     "output_type": "display_data"
    }
   ],
   "source": [
    "sns.distplot(df['Percent hike offered in CTC'])"
   ]
  },
  {
   "cell_type": "markdown",
   "id": "c50d7924",
   "metadata": {},
   "source": [
    "    Testing normality of data\n",
    "    H0: The data is normal\n",
    "    H1: the data is not normal\n",
    "    alpha = 0.05"
   ]
  },
  {
   "cell_type": "code",
   "execution_count": 84,
   "id": "ae15f09a",
   "metadata": {
    "scrolled": true
   },
   "outputs": [
    {
     "name": "stderr",
     "output_type": "stream",
     "text": [
      "C:\\Users\\pranchauhan\\Anaconda3\\lib\\site-packages\\scipy\\stats\\morestats.py:1681: UserWarning: p-value may not be accurate for N > 5000.\n",
      "  warnings.warn(\"p-value may not be accurate for N > 5000.\")\n"
     ]
    },
    {
     "data": {
      "text/plain": [
       "ShapiroResult(statistic=0.9927082061767578, pvalue=3.0644941431815615e-20)"
      ]
     },
     "execution_count": 84,
     "metadata": {},
     "output_type": "execute_result"
    }
   ],
   "source": [
    "st.shapiro(table3['Percent hike offered in CTC'])"
   ]
  },
  {
   "cell_type": "markdown",
   "id": "a2f33e22",
   "metadata": {},
   "source": [
    "pvalue < alpha(0.05) --> we reject the H0 --> Hence the Duration to accept offer doesn't follow normal distribution"
   ]
  },
  {
   "cell_type": "code",
   "execution_count": null,
   "id": "8112bd0c",
   "metadata": {},
   "outputs": [],
   "source": []
  },
  {
   "cell_type": "markdown",
   "id": "dbaf064f",
   "metadata": {},
   "source": [
    "### 3. How Location affect the Status"
   ]
  },
  {
   "cell_type": "code",
   "execution_count": 11,
   "id": "5f16c6ef",
   "metadata": {},
   "outputs": [
    {
     "data": {
      "text/plain": [
       "<AxesSubplot:xlabel='Location', ylabel='count'>"
      ]
     },
     "execution_count": 11,
     "metadata": {},
     "output_type": "execute_result"
    },
    {
     "data": {
      "image/png": "[encoded data removed]",
      "text/plain": [
       "<Figure size 864x720 with 1 Axes>"
      ]
     },
     "metadata": {
      "needs_background": "light"
     },
     "output_type": "display_data"
    }
   ],
   "source": [
    "fig,ax = plt.subplots(figsize=(12,10))\n",
    "sns.countplot(x=df.Location,hue = df.Status, ax=ax)"
   ]
  },
  {
   "cell_type": "code",
   "execution_count": 22,
   "id": "fe38ebf3",
   "metadata": {},
   "outputs": [
    {
     "data": {
      "text/plain": [
       "Joined        7313\n",
       "Not Joined    1682\n",
       "Name: Status, dtype: int64"
      ]
     },
     "execution_count": 22,
     "metadata": {},
     "output_type": "execute_result"
    }
   ],
   "source": [
    "df.Status.value_counts()"
   ]
  },
  {
   "cell_type": "code",
   "execution_count": 24,
   "id": "beb6657c",
   "metadata": {},
   "outputs": [
    {
     "data": {
      "text/plain": [
       "Chennai      3150\n",
       "Noida        2727\n",
       "Bangalore    2230\n",
       "Hyderabad     341\n",
       "Mumbai        197\n",
       "Gurgaon       146\n",
       "Kolkata       129\n",
       "Pune           48\n",
       "Others         13\n",
       "Cochin          8\n",
       "Ahmedabad       6\n",
       "Name: Location, dtype: int64"
      ]
     },
     "execution_count": 24,
     "metadata": {},
     "output_type": "execute_result"
    }
   ],
   "source": [
    "df.Location.value_counts()"
   ]
  },
  {
   "cell_type": "code",
   "execution_count": 26,
   "id": "0addc1e2",
   "metadata": {},
   "outputs": [
    {
     "data": {
      "text/html": [
       "<div>\n",
       "<style scoped>\n",
       "    .dataframe tbody tr th:only-of-type {\n",
       "        vertical-align: middle;\n",
       "    }\n",
       "\n",
       "    .dataframe tbody tr th {\n",
       "        vertical-align: top;\n",
       "    }\n",
       "\n",
       "    .dataframe thead th {\n",
       "        text-align: right;\n",
       "    }\n",
       "</style>\n",
       "<table border=\"1\" class=\"dataframe\">\n",
       "  <thead>\n",
       "    <tr style=\"text-align: right;\">\n",
       "      <th>Location</th>\n",
       "      <th>Ahmedabad</th>\n",
       "      <th>Bangalore</th>\n",
       "      <th>Chennai</th>\n",
       "      <th>Cochin</th>\n",
       "      <th>Gurgaon</th>\n",
       "      <th>Hyderabad</th>\n",
       "      <th>Kolkata</th>\n",
       "      <th>Mumbai</th>\n",
       "      <th>Noida</th>\n",
       "      <th>Others</th>\n",
       "      <th>Pune</th>\n",
       "    </tr>\n",
       "    <tr>\n",
       "      <th>Status</th>\n",
       "      <th></th>\n",
       "      <th></th>\n",
       "      <th></th>\n",
       "      <th></th>\n",
       "      <th></th>\n",
       "      <th></th>\n",
       "      <th></th>\n",
       "      <th></th>\n",
       "      <th></th>\n",
       "      <th></th>\n",
       "      <th></th>\n",
       "    </tr>\n",
       "  </thead>\n",
       "  <tbody>\n",
       "    <tr>\n",
       "      <th>Joined</th>\n",
       "      <td>5</td>\n",
       "      <td>1742</td>\n",
       "      <td>2486</td>\n",
       "      <td>7</td>\n",
       "      <td>118</td>\n",
       "      <td>266</td>\n",
       "      <td>100</td>\n",
       "      <td>176</td>\n",
       "      <td>2362</td>\n",
       "      <td>13</td>\n",
       "      <td>38</td>\n",
       "    </tr>\n",
       "    <tr>\n",
       "      <th>Not Joined</th>\n",
       "      <td>1</td>\n",
       "      <td>488</td>\n",
       "      <td>664</td>\n",
       "      <td>1</td>\n",
       "      <td>28</td>\n",
       "      <td>75</td>\n",
       "      <td>29</td>\n",
       "      <td>21</td>\n",
       "      <td>365</td>\n",
       "      <td>0</td>\n",
       "      <td>10</td>\n",
       "    </tr>\n",
       "  </tbody>\n",
       "</table>\n",
       "</div>"
      ],
      "text/plain": [
       "Location    Ahmedabad  Bangalore  Chennai  Cochin  Gurgaon  Hyderabad  \\\n",
       "Status                                                                  \n",
       "Joined              5       1742     2486       7      118        266   \n",
       "Not Joined          1        488      664       1       28         75   \n",
       "\n",
       "Location    Kolkata  Mumbai  Noida  Others  Pune  \n",
       "Status                                            \n",
       "Joined          100     176   2362      13    38  \n",
       "Not Joined       29      21    365       0    10  "
      ]
     },
     "execution_count": 26,
     "metadata": {},
     "output_type": "execute_result"
    }
   ],
   "source": [
    "pd.crosstab(df.Status,df.Location)"
   ]
  },
  {
   "cell_type": "code",
   "execution_count": null,
   "id": "5c9468b3",
   "metadata": {},
   "outputs": [],
   "source": []
  }
 ],
 "metadata": {
  "kernelspec": {
   "display_name": "Python 3",
   "language": "python",
   "name": "python3"
  },
  "language_info": {
   "codemirror_mode": {
    "name": "ipython",
    "version": 3
   },
   "file_extension": ".py",
   "mimetype": "text/x-python",
   "name": "python",
   "nbconvert_exporter": "python",
   "pygments_lexer": "ipython3",
   "version": "3.8.8"
  }
 },
 "nbformat": 4,
 "nbformat_minor": 5
}
